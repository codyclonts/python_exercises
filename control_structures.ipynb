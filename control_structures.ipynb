{
 "cells": [
  {
   "cell_type": "code",
   "execution_count": 168,
   "id": "5bcb6190",
   "metadata": {},
   "outputs": [
    {
     "name": "stdout",
     "output_type": "stream",
     "text": [
      "What is the day: MONDAY\n",
      "Aww today is really monday?\n"
     ]
    }
   ],
   "source": [
    "#1a found out how to do if statement against list\n",
    "\n",
    "\n",
    "day = input('What is the day: ')\n",
    "if day.lower() in ['mon', 'monday']:\n",
    "    print(\"Aww today is really monday?\")\n",
    "else: \n",
    "    print(\"at least it isn't monday\")"
   ]
  },
  {
   "cell_type": "code",
   "execution_count": 169,
   "id": "d61216e9",
   "metadata": {},
   "outputs": [
    {
     "name": "stdout",
     "output_type": "stream",
     "text": [
      "What is today?\n",
      "MONDAY\n",
      "aww today is really monday?\n"
     ]
    }
   ],
   "source": [
    "#1a long way around\n",
    "\n",
    "print('What is today?')\n",
    "day = input()\n",
    "if day.lower() =='monday':\n",
    "    print(\"aww today is really monday?\")\n",
    "\n",
    "else:\n",
    "    print(\"at least it isn't Monday\")"
   ]
  },
  {
   "cell_type": "code",
   "execution_count": 176,
   "id": "7cac9f35",
   "metadata": {},
   "outputs": [
    {
     "name": "stdout",
     "output_type": "stream",
     "text": [
      "What is today? Monday\n",
      "Man, I was really hoping it was the weekend!\n"
     ]
    }
   ],
   "source": [
    "#1b\n",
    "day = input('What is today? ')\n",
    "\n",
    "while day.lower() not in ['saturday', 'sunday','monday', 'tuesday', 'wednesday','thursday','friday']:\n",
    "    print(\"Come on. Please enter a day of the week and don't try to break my code.\")\n",
    "    day = input('What is today? ')\n",
    "if day.lower() in ['monday', 'tuesday', 'wednesday','thursday','friday']:\n",
    "    print (\"Man, I was really hoping it was the weekend!\")\n",
    "elif day.lower() in ['saturday', 'sunday']:\n",
    "    print('Woohoo! It is the weekend!')\n",
    "\n"
   ]
  },
  {
   "cell_type": "code",
   "execution_count": 66,
   "id": "29696a46",
   "metadata": {},
   "outputs": [
    {
     "name": "stdout",
     "output_type": "stream",
     "text": [
      "enter hours worked20\n",
      "you will get payed $ 400\n"
     ]
    }
   ],
   "source": [
    "#1c write the python code that calculates the weekly paycheck. \n",
    "#You get paid time and a half if you work more than 40 hours\n",
    "\n",
    "hours= int(input('enter hours worked '))\n",
    "rate=20\n",
    "\n",
    "if hours <=40:\n",
    "    pay = hours * rate\n",
    "elif hours > 40:\n",
    "    pay = ((hours - 40) * 1.5 * rate) + rate*40\n",
    "\n",
    "print(\"you will get payed $\", pay)\n",
    "    \n",
    "\n",
    "\n",
    "\n"
   ]
  },
  {
   "cell_type": "code",
   "execution_count": 74,
   "id": "dc04704f",
   "metadata": {},
   "outputs": [
    {
     "name": "stdout",
     "output_type": "stream",
     "text": [
      "enter hours worked 10.5\n",
      "what is your pay rate 10\n",
      "you will get payed $ 105.0\n"
     ]
    }
   ],
   "source": [
    "#1c cwrite the python code that calculates the weekly paycheck. \n",
    "#You get paid time and a half if you work more than 40 hours\n",
    "\n",
    "hours_worked= input('enter hours worked ')\n",
    "hours = float(hours_worked)\n",
    "rate= int(input('what is your pay rate '))\n",
    "\n",
    "if hours <=40:\n",
    "    pay = hours * rate\n",
    "elif hours > 40:\n",
    "    pay = ((hours - 40) * 1.5 * rate) + rate*40\n",
    "\n",
    "print(\"you will get payed $\", pay)"
   ]
  },
  {
   "cell_type": "code",
   "execution_count": 83,
   "id": "b7d72d26",
   "metadata": {},
   "outputs": [
    {
     "name": "stdout",
     "output_type": "stream",
     "text": [
      "5\n",
      "6\n",
      "7\n",
      "8\n",
      "9\n",
      "10\n",
      "11\n",
      "12\n",
      "13\n",
      "14\n",
      "15\n"
     ]
    }
   ],
   "source": [
    "#2a Loop basics\n",
    "i = 5 \n",
    "\n",
    "while i <=15:\n",
    "    print (i)\n",
    "    i+=1\n"
   ]
  },
  {
   "cell_type": "code",
   "execution_count": 84,
   "id": "da699682",
   "metadata": {},
   "outputs": [
    {
     "name": "stdout",
     "output_type": "stream",
     "text": [
      "0\n",
      "2\n",
      "4\n",
      "6\n",
      "8\n",
      "10\n",
      "12\n",
      "14\n",
      "16\n",
      "18\n",
      "20\n",
      "22\n",
      "24\n",
      "26\n",
      "28\n",
      "30\n",
      "32\n",
      "34\n",
      "36\n",
      "38\n",
      "40\n",
      "42\n",
      "44\n",
      "46\n",
      "48\n",
      "50\n",
      "52\n",
      "54\n",
      "56\n",
      "58\n",
      "60\n",
      "62\n",
      "64\n",
      "66\n",
      "68\n",
      "70\n",
      "72\n",
      "74\n",
      "76\n",
      "78\n",
      "80\n",
      "82\n",
      "84\n",
      "86\n",
      "88\n",
      "90\n",
      "92\n",
      "94\n",
      "96\n",
      "98\n",
      "100\n"
     ]
    }
   ],
   "source": [
    "#2a cont\n",
    "\n",
    "i = 0 \n",
    "while i <=100:\n",
    "    print(i)\n",
    "    i +=2"
   ]
  },
  {
   "cell_type": "code",
   "execution_count": 89,
   "id": "d55b3057",
   "metadata": {},
   "outputs": [
    {
     "name": "stdout",
     "output_type": "stream",
     "text": [
      "100\n",
      "95\n",
      "90\n",
      "85\n",
      "80\n",
      "75\n",
      "70\n",
      "65\n",
      "60\n",
      "55\n",
      "50\n",
      "45\n",
      "40\n",
      "35\n",
      "30\n",
      "25\n",
      "20\n",
      "15\n",
      "10\n",
      "5\n",
      "0\n",
      "-5\n",
      "-10\n"
     ]
    }
   ],
   "source": [
    "#2a cont\n",
    "\n",
    "i = 100\n",
    "\n",
    "while i >= (-10):\n",
    "    print(i)\n",
    "    i -=5\n",
    "    "
   ]
  },
  {
   "cell_type": "code",
   "execution_count": 91,
   "id": "7d59b2b9",
   "metadata": {},
   "outputs": [
    {
     "name": "stdout",
     "output_type": "stream",
     "text": [
      "2\n",
      "4\n",
      "16\n",
      "256\n",
      "65536\n"
     ]
    }
   ],
   "source": [
    "#2a cont\n",
    "\n",
    "i = 2 \n",
    "while i <= 1000000:\n",
    "    print(i)\n",
    "    i **= 2 "
   ]
  },
  {
   "cell_type": "code",
   "execution_count": 179,
   "id": "b5e23561",
   "metadata": {},
   "outputs": [
    {
     "name": "stdout",
     "output_type": "stream",
     "text": [
      "100\n",
      "95\n",
      "90\n",
      "85\n",
      "80\n",
      "75\n",
      "70\n",
      "65\n",
      "60\n",
      "55\n",
      "50\n",
      "45\n",
      "40\n",
      "35\n",
      "30\n",
      "25\n",
      "20\n",
      "15\n",
      "10\n",
      "5\n"
     ]
    }
   ],
   "source": [
    "#2a cont\n",
    "\n",
    "i = 100\n",
    "while i >= 5:\n",
    "    print(i)\n",
    "    i -= 5"
   ]
  },
  {
   "cell_type": "code",
   "execution_count": 177,
   "id": "f14407ba",
   "metadata": {},
   "outputs": [
    {
     "name": "stdout",
     "output_type": "stream",
     "text": [
      "select a number: 3\n",
      "3 x 1 = 3\n",
      "3 x 2 = 6\n",
      "3 x 3 = 9\n",
      "3 x 4 = 12\n",
      "3 x 5 = 15\n",
      "3 x 6 = 18\n",
      "3 x 7 = 21\n",
      "3 x 8 = 24\n",
      "3 x 9 = 27\n",
      "3 x 10 = 30\n"
     ]
    }
   ],
   "source": [
    "#2 b i\n",
    "\n",
    "n = int(input('select a number: '))\n",
    "for i in range(1,11):\n",
    "    print(n , 'x', i, '=', n*i)\n",
    "   "
   ]
  },
  {
   "cell_type": "code",
   "execution_count": 10,
   "id": "eedd7cf6",
   "metadata": {},
   "outputs": [
    {
     "name": "stdout",
     "output_type": "stream",
     "text": [
      "1\n",
      "22\n",
      "333\n",
      "4444\n",
      "55555\n",
      "666666\n",
      "7777777\n",
      "88888888\n",
      "999999999\n"
     ]
    }
   ],
   "source": [
    "#2 b ii\n",
    "\n",
    "n = 9 \n",
    "\n",
    "for i in range (1, 10):\n",
    "    for j in range (1,i+1):\n",
    "        print(i,end=\"\")\n",
    "    print()"
   ]
  },
  {
   "cell_type": "code",
   "execution_count": 89,
   "id": "4bd0cc0e",
   "metadata": {},
   "outputs": [
    {
     "name": "stdout",
     "output_type": "stream",
     "text": [
      "Please enter a positive number! 12\n",
      "Let's count to that number!\n",
      "1\n",
      "2\n",
      "3\n",
      "4\n",
      "5\n",
      "6\n",
      "7\n",
      "8\n",
      "9\n",
      "10\n",
      "11\n",
      "12\n"
     ]
    }
   ],
   "source": [
    "#2d\n",
    "\n",
    "count = 0\n",
    "number = int(input('Please enter a positive number! '))\n",
    "if number >=1:\n",
    "    print(\"Let's count to that number!\")\n",
    "else: \n",
    "    print(\"That number isn't greater than zero! Try again!\")\n",
    "    \n",
    "for i in range(number):\n",
    "    print(count + 1)\n",
    "    count = count+ 1\n"
   ]
  },
  {
   "cell_type": "code",
   "execution_count": 125,
   "id": "3cff8c65",
   "metadata": {},
   "outputs": [
    {
     "name": "stdout",
     "output_type": "stream",
     "text": [
      "Please enter a positive number! -3\n",
      "That number isn't greater than zero! Try again!\n"
     ]
    }
   ],
   "source": [
    "#2 d\n",
    "count = 0\n",
    "number = int(input('Please enter a positive number! '))\n",
    "\n",
    "while number >= 1:\n",
    "    print(\"Let's count to that number!\")\n",
    "    break\n",
    "else: \n",
    "    print(\"That number isn't greater than zero! Try again!\")\n",
    "    \n",
    "for i in range(number):\n",
    "    print(count + 1)\n",
    "    count = count+ 1\n",
    "    \n"
   ]
  },
  {
   "cell_type": "code",
   "execution_count": 238,
   "id": "9688a01f",
   "metadata": {},
   "outputs": [
    {
     "name": "stdout",
     "output_type": "stream",
     "text": [
      "Please enter an odd number less than 503\n",
      "number to skip is:  3\n",
      "this is an odd number 1\n",
      "we are skipping your number! 3\n",
      "this is an odd number 5\n",
      "this is an odd number 7\n",
      "this is an odd number 9\n",
      "this is an odd number 11\n",
      "this is an odd number 13\n",
      "this is an odd number 15\n",
      "this is an odd number 17\n",
      "this is an odd number 19\n",
      "this is an odd number 21\n",
      "this is an odd number 23\n",
      "this is an odd number 25\n",
      "this is an odd number 27\n",
      "this is an odd number 29\n",
      "this is an odd number 31\n",
      "this is an odd number 33\n",
      "this is an odd number 35\n",
      "this is an odd number 37\n",
      "this is an odd number 39\n",
      "this is an odd number 41\n",
      "this is an odd number 43\n",
      "this is an odd number 45\n",
      "this is an odd number 47\n",
      "this is an odd number 49\n"
     ]
    }
   ],
   "source": [
    "#2c\n",
    "num=input('Please enter an odd number less than 50')\n",
    " \n",
    "while True:\n",
    "    if (num.isdigit() == False or int(num) > 50 or int(num) < 1 or int(num)% 2 == 0):\n",
    "        print('INVALID')\n",
    "        num=input('Please enter an odd number less than 50 ')\n",
    "    else:\n",
    "        break\n",
    "\n",
    "num = int(num)\n",
    "\n",
    "print('number to skip is: ', num)\n",
    "for n in range(1,50):\n",
    "    if n % 2 == 0:\n",
    "        continue\n",
    "    elif n == num:\n",
    "        print('we are skipping your number!', n)\n",
    "    else: \n",
    "        print ('this is an odd number' , n)\n",
    "     \n",
    "    "
   ]
  },
  {
   "cell_type": "code",
   "execution_count": 203,
   "id": "f46bc65f",
   "metadata": {},
   "outputs": [
    {
     "name": "stdout",
     "output_type": "stream",
     "text": [
      "Fizzbuzz\n",
      "1\n",
      "2\n",
      "fizz\n",
      "4\n",
      "Buzz\n",
      "fizz\n",
      "7\n",
      "8\n",
      "fizz\n",
      "Buzz\n",
      "11\n",
      "fizz\n",
      "13\n",
      "14\n",
      "Fizzbuzz\n",
      "16\n",
      "17\n",
      "fizz\n",
      "19\n",
      "Buzz\n",
      "fizz\n",
      "22\n",
      "23\n",
      "fizz\n",
      "Buzz\n",
      "26\n",
      "fizz\n",
      "28\n",
      "29\n",
      "Fizzbuzz\n",
      "31\n",
      "32\n",
      "fizz\n",
      "34\n",
      "Buzz\n",
      "fizz\n",
      "37\n",
      "38\n",
      "fizz\n",
      "Buzz\n",
      "41\n",
      "fizz\n",
      "43\n",
      "44\n",
      "Fizzbuzz\n",
      "46\n",
      "47\n",
      "fizz\n",
      "49\n",
      "Buzz\n",
      "fizz\n",
      "52\n",
      "53\n",
      "fizz\n",
      "Buzz\n",
      "56\n",
      "fizz\n",
      "58\n",
      "59\n",
      "Fizzbuzz\n",
      "61\n",
      "62\n",
      "fizz\n",
      "64\n",
      "Buzz\n",
      "fizz\n",
      "67\n",
      "68\n",
      "fizz\n",
      "Buzz\n",
      "71\n",
      "fizz\n",
      "73\n",
      "74\n",
      "Fizzbuzz\n",
      "76\n",
      "77\n",
      "fizz\n",
      "79\n",
      "Buzz\n",
      "fizz\n",
      "82\n",
      "83\n",
      "fizz\n",
      "Buzz\n",
      "86\n",
      "fizz\n",
      "88\n",
      "89\n",
      "Fizzbuzz\n",
      "91\n",
      "92\n",
      "fizz\n",
      "94\n",
      "Buzz\n",
      "fizz\n",
      "97\n",
      "98\n",
      "fizz\n"
     ]
    }
   ],
   "source": [
    "#3\n",
    "for n in range(0,100):\n",
    "    if n % 5 == 0 and n % 3 == 0:\n",
    "        print(\"Fizzbuzz\")\n",
    "    elif n % 5 == 0: \n",
    "        print(\"Buzz\")\n",
    "    elif n % 3 == 0:\n",
    "        print(\"fizz\")\n",
    "    else: \n",
    "        print(n)"
   ]
  },
  {
   "cell_type": "code",
   "execution_count": 201,
   "id": "04b18c27",
   "metadata": {},
   "outputs": [
    {
     "name": "stdout",
     "output_type": "stream",
     "text": [
      "What would you like the number to be? 5\n",
      "number square cube\n",
      "0       0      0\n",
      "1       1      1\n",
      "2       4      8\n",
      "3       9      27\n",
      "4       16      64\n",
      "5       25      125\n",
      "Would. you like to continue? yes or no yes\n",
      "What would you like the number to be? 10\n",
      "number square cube\n",
      "0       0      0\n",
      "1       1      1\n",
      "2       4      8\n",
      "3       9      27\n",
      "4       16      64\n",
      "5       25      125\n",
      "6       36      216\n",
      "7       49      343\n",
      "8       64      512\n",
      "9       81      729\n",
      "10       100      1000\n",
      "Would. you like to continue? yes or no no\n"
     ]
    }
   ],
   "source": [
    "#4\n",
    "n = 0\n",
    "square = 0\n",
    "cube = 0\n",
    "\n",
    "while True:\n",
    "    \n",
    "    n= int(input('What would you like the number to be? '))\n",
    "    print('number square cube')\n",
    "    for n in range(0, n +1):\n",
    "        square = n**2\n",
    "        cube = n**3\n",
    "        print(n, '     ',square,'    ', cube)\n",
    "\n",
    "    cont = input('Would. you like to continue? yes or no ').lower()\n",
    "    if cont == \"yes\":\n",
    "        continue\n",
    "    else:\n",
    "        break\n",
    "    "
   ]
  },
  {
   "cell_type": "code",
   "execution_count": 149,
   "id": "f975ffc6",
   "metadata": {},
   "outputs": [
    {
     "name": "stdout",
     "output_type": "stream",
     "text": [
      "What was your grade from 0-100? 90\n",
      "A: 90\n",
      "Would. you like to continue? yes or no yes\n",
      "What was your grade from 0-100? 75\n",
      "C: 75\n",
      "Would. you like to continue? yes or no yes\n",
      "What was your grade from 0-100? 40\n",
      "Would. you like to continue? yes or no no\n"
     ]
    }
   ],
   "source": [
    "# 5\n",
    "\n",
    "\n",
    "while True: \n",
    "    grade = int(input('What was your grade from 0-100? '))\n",
    "    if grade >= 88 and grade <= 100:\n",
    "        print( \"A:\", grade)\n",
    "        \n",
    "    elif grade >= 80 and grade <=87:\n",
    "        print (\"B:\", grade)\n",
    "        \n",
    "    elif grade >= 67 and grade <=79:\n",
    "        print (\"C:\", grade)\n",
    "       \n",
    "    elif grade >= 60 and grade <=76:\n",
    "        print (\"D:\", grade)\n",
    "        \n",
    "    elif grade >= 60:\n",
    "        print (\"F:\", grade)\n",
    "        \n",
    "        \n",
    "    cont = input('Would. you like to continue? yes or no ').lower()\n",
    "    if cont == \"yes\":\n",
    "        continue\n",
    "    else: \n",
    "        break"
   ]
  },
  {
   "cell_type": "code",
   "execution_count": 167,
   "id": "15b2b76a",
   "metadata": {},
   "outputs": [
    {
     "data": {
      "text/plain": [
       "'HP and TOTP'"
      ]
     },
     "execution_count": 167,
     "metadata": {},
     "output_type": "execute_result"
    }
   ],
   "source": [
    "booka= dict(title = \"HP and TOTP\", author= \"J.K. Rowling\", genre = \"fantasy\")\n",
    "bookb= dict(title = \"Dune\", author= \"Frank Herbert\", genre = \"sci-fi\")\n",
    "bookc= dict(title = \"Of mice and men\", author= \"John steinbeck\", genre = \"fiction\")"
   ]
  },
  {
   "cell_type": "code",
   "execution_count": null,
   "id": "b8a8b4e4",
   "metadata": {},
   "outputs": [],
   "source": []
  }
 ],
 "metadata": {
  "kernelspec": {
   "display_name": "Python 3 (ipykernel)",
   "language": "python",
   "name": "python3"
  },
  "language_info": {
   "codemirror_mode": {
    "name": "ipython",
    "version": 3
   },
   "file_extension": ".py",
   "mimetype": "text/x-python",
   "name": "python",
   "nbconvert_exporter": "python",
   "pygments_lexer": "ipython3",
   "version": "3.9.7"
  }
 },
 "nbformat": 4,
 "nbformat_minor": 5
}
