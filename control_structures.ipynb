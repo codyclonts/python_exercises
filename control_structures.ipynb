{
 "cells": [
  {
   "cell_type": "code",
   "execution_count": 44,
   "id": "23ceb6f6",
   "metadata": {},
   "outputs": [
    {
     "name": "stdout",
     "output_type": "stream",
     "text": [
      "What is the day: tuesday\n",
      "nope\n"
     ]
    }
   ],
   "source": [
    "#1a found out how to do if statement against list\n",
    "\n",
    "\n",
    "day = input('What is the day: ')\n",
    "if day in ['Monday', 'monday']:\n",
    "    print(\"Aww today is really monday?\")\n",
    "else: \n",
    "    print(\"at least it isn't monday\")"
   ]
  },
  {
   "cell_type": "code",
   "execution_count": 38,
   "id": "4e846cfa",
   "metadata": {},
   "outputs": [
    {
     "name": "stdout",
     "output_type": "stream",
     "text": [
      "What is today?\n",
      "tuesday\n",
      "at least it isn't monday\n"
     ]
    }
   ],
   "source": [
    "#1a long way around\n",
    "\n",
    "print('What is today?')\n",
    "day = input()\n",
    "if day =='monday':\n",
    "    print(\"aww today is really monday?\")\n",
    "elif day == 'Monday':\n",
    "    print(\"aww today is really monday?\")\n",
    "\n",
    "else:\n",
    "    print(\"at least it isn't Monday\")"
   ]
  },
  {
   "cell_type": "code",
   "execution_count": 51,
   "id": "63eb0d9b",
   "metadata": {},
   "outputs": [
    {
     "name": "stdout",
     "output_type": "stream",
     "text": [
      "What is today?car\n",
      "Come on. Please enter a day of the week and don't try to break my code.\n"
     ]
    }
   ],
   "source": [
    "#1b\n",
    "day = input('What is today?')\n",
    "if day in ['Monday', 'monday', 'Tuesday', 'tuesday', 'Wednesday', 'wednesday','Thursday','thursday','Friday','friday']:\n",
    "    print (\"Man, I was really hoping it was the weekend!\")\n",
    "elif day in ['Saturday', 'saturday','Sunday','sunday']:\n",
    "    print('Woohoo! It is the weekend!')\n",
    "else:\n",
    "    print(\"Come on. Please enter a day of the week and don't try to break my code.\")\n"
   ]
  },
  {
   "cell_type": "code",
   "execution_count": 66,
   "id": "453f4708",
   "metadata": {},
   "outputs": [
    {
     "name": "stdout",
     "output_type": "stream",
     "text": [
      "enter hours worked20\n",
      "you will get payed $ 400\n"
     ]
    }
   ],
   "source": [
    "#1c cwrite the python code that calculates the weekly paycheck. \n",
    "#You get paid time and a half if you work more than 40 hours\n",
    "\n",
    "hours= int(input('enter hours worked '))\n",
    "rate=20\n",
    "\n",
    "if hours <=40:\n",
    "    pay = hours * rate\n",
    "elif hours > 40:\n",
    "    pay = ((hours - 40) * 1.5 * rate) + rate*40\n",
    "\n",
    "print(\"you will get payed $\", pay)\n",
    "    \n",
    "\n",
    "\n",
    "\n"
   ]
  },
  {
   "cell_type": "code",
   "execution_count": 74,
   "id": "2140c6a7",
   "metadata": {},
   "outputs": [
    {
     "name": "stdout",
     "output_type": "stream",
     "text": [
      "enter hours worked 10.5\n",
      "what is your pay rate 10\n",
      "you will get payed $ 105.0\n"
     ]
    }
   ],
   "source": [
    "#1c cwrite the python code that calculates the weekly paycheck. \n",
    "#You get paid time and a half if you work more than 40 hours\n",
    "\n",
    "hours_worked= input('enter hours worked ')\n",
    "hours = float(hours_worked)\n",
    "rate= int(input('what is your pay rate '))\n",
    "\n",
    "if hours <=40:\n",
    "    pay = hours * rate\n",
    "elif hours > 40:\n",
    "    pay = ((hours - 40) * 1.5 * rate) + rate*40\n",
    "\n",
    "print(\"you will get payed $\", pay)"
   ]
  },
  {
   "cell_type": "code",
   "execution_count": 83,
   "id": "87628bdd",
   "metadata": {},
   "outputs": [
    {
     "name": "stdout",
     "output_type": "stream",
     "text": [
      "5\n",
      "6\n",
      "7\n",
      "8\n",
      "9\n",
      "10\n",
      "11\n",
      "12\n",
      "13\n",
      "14\n",
      "15\n"
     ]
    }
   ],
   "source": [
    "#2a Loop basics\n",
    "i = 5 \n",
    "\n",
    "while i <=15:\n",
    "    print (i)\n",
    "    i+=1\n"
   ]
  },
  {
   "cell_type": "code",
   "execution_count": 84,
   "id": "8576295e",
   "metadata": {},
   "outputs": [
    {
     "name": "stdout",
     "output_type": "stream",
     "text": [
      "0\n",
      "2\n",
      "4\n",
      "6\n",
      "8\n",
      "10\n",
      "12\n",
      "14\n",
      "16\n",
      "18\n",
      "20\n",
      "22\n",
      "24\n",
      "26\n",
      "28\n",
      "30\n",
      "32\n",
      "34\n",
      "36\n",
      "38\n",
      "40\n",
      "42\n",
      "44\n",
      "46\n",
      "48\n",
      "50\n",
      "52\n",
      "54\n",
      "56\n",
      "58\n",
      "60\n",
      "62\n",
      "64\n",
      "66\n",
      "68\n",
      "70\n",
      "72\n",
      "74\n",
      "76\n",
      "78\n",
      "80\n",
      "82\n",
      "84\n",
      "86\n",
      "88\n",
      "90\n",
      "92\n",
      "94\n",
      "96\n",
      "98\n",
      "100\n"
     ]
    }
   ],
   "source": [
    "#2a cont\n",
    "\n",
    "i = 0 \n",
    "while i <=100:\n",
    "    print(i)\n",
    "    i +=2"
   ]
  },
  {
   "cell_type": "code",
   "execution_count": 89,
   "id": "567a64b8",
   "metadata": {},
   "outputs": [
    {
     "name": "stdout",
     "output_type": "stream",
     "text": [
      "100\n",
      "95\n",
      "90\n",
      "85\n",
      "80\n",
      "75\n",
      "70\n",
      "65\n",
      "60\n",
      "55\n",
      "50\n",
      "45\n",
      "40\n",
      "35\n",
      "30\n",
      "25\n",
      "20\n",
      "15\n",
      "10\n",
      "5\n",
      "0\n",
      "-5\n",
      "-10\n"
     ]
    }
   ],
   "source": [
    "#2a cont\n",
    "\n",
    "i = 100\n",
    "\n",
    "while i >= (-10):\n",
    "    print(i)\n",
    "    i -=5\n",
    "    "
   ]
  },
  {
   "cell_type": "code",
   "execution_count": 91,
   "id": "dc0d6e30",
   "metadata": {},
   "outputs": [
    {
     "name": "stdout",
     "output_type": "stream",
     "text": [
      "2\n",
      "4\n",
      "16\n",
      "256\n",
      "65536\n"
     ]
    }
   ],
   "source": [
    "#2a cont\n",
    "\n",
    "i = 2 \n",
    "while i <= 1000000:\n",
    "    print(i)\n",
    "    i **= 2 "
   ]
  },
  {
   "cell_type": "code",
   "execution_count": 92,
   "id": "7b0faee8",
   "metadata": {},
   "outputs": [
    {
     "name": "stdout",
     "output_type": "stream",
     "text": [
      "100\n",
      "95\n",
      "90\n",
      "85\n",
      "80\n",
      "75\n",
      "70\n",
      "65\n",
      "60\n",
      "55\n",
      "50\n",
      "45\n",
      "40\n",
      "35\n",
      "30\n",
      "25\n",
      "20\n",
      "15\n",
      "10\n",
      "5\n"
     ]
    }
   ],
   "source": [
    "#2a cont\n",
    "\n",
    "i = 100\n",
    "while i >= 5:\n",
    "    print(i)\n",
    "    i -= 5"
   ]
  },
  {
   "cell_type": "code",
   "execution_count": 107,
   "id": "7355371e",
   "metadata": {},
   "outputs": [
    {
     "name": "stdout",
     "output_type": "stream",
     "text": [
      "7 x 1 = 7\n",
      "7 x 2 = 14\n",
      "7 x 3 = 21\n",
      "7 x 4 = 28\n",
      "7 x 5 = 35\n",
      "7 x 6 = 42\n",
      "7 x 7 = 49\n",
      "7 x 8 = 56\n",
      "7 x 9 = 63\n",
      "7 x 10 = 70\n"
     ]
    }
   ],
   "source": [
    "n = 7\n",
    "for i in range(1,11):\n",
    "    print(n , 'x', i, '=', n*i)\n",
    "   "
   ]
  },
  {
   "cell_type": "code",
   "execution_count": null,
   "id": "8f4722a0",
   "metadata": {},
   "outputs": [],
   "source": []
  }
 ],
 "metadata": {
  "kernelspec": {
   "display_name": "Python 3 (ipykernel)",
   "language": "python",
   "name": "python3"
  },
  "language_info": {
   "codemirror_mode": {
    "name": "ipython",
    "version": 3
   },
   "file_extension": ".py",
   "mimetype": "text/x-python",
   "name": "python",
   "nbconvert_exporter": "python",
   "pygments_lexer": "ipython3",
   "version": "3.9.7"
  }
 },
 "nbformat": 4,
 "nbformat_minor": 5
}
