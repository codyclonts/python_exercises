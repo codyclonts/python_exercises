{
 "cells": [
  {
   "cell_type": "code",
   "execution_count": 21,
   "id": "4beb9817",
   "metadata": {},
   "outputs": [],
   "source": [
    "def is_two(x):\n",
    "    x = input('Please input a number')\n",
    "    if ((x== 2) or (x == '2')):\n",
    "        print(True)\n",
    "    else:\n",
    "        print(False)\n"
   ]
  },
  {
   "cell_type": "code",
   "execution_count": 15,
   "id": "f1d13234",
   "metadata": {},
   "outputs": [
    {
     "name": "stdout",
     "output_type": "stream",
     "text": [
      "Exercise 43 is correct.\n"
     ]
    }
   ],
   "source": [
    "def is_vowel(x):\n",
    "    vowel = ['a','e','i','o', 'u']\n",
    "    if x.lower() in vowel:\n",
    "        return True\n",
    "    else:\n",
    "        return False\n",
    "print('correct')"
   ]
  },
  {
   "cell_type": "code",
   "execution_count": null,
   "id": "c99559ec",
   "metadata": {},
   "outputs": [],
   "source": []
  }
 ],
 "metadata": {
  "kernelspec": {
   "display_name": "Python 3 (ipykernel)",
   "language": "python",
   "name": "python3"
  },
  "language_info": {
   "codemirror_mode": {
    "name": "ipython",
    "version": 3
   },
   "file_extension": ".py",
   "mimetype": "text/x-python",
   "name": "python",
   "nbconvert_exporter": "python",
   "pygments_lexer": "ipython3",
   "version": "3.9.7"
  }
 },
 "nbformat": 4,
 "nbformat_minor": 5
}
