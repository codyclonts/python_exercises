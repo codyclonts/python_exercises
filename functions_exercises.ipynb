{
 "cells": [
  {
   "cell_type": "code",
   "execution_count": 251,
   "id": "77f54502",
   "metadata": {},
   "outputs": [],
   "source": [
    "#teacher solution\n",
    "\n",
    "def is_two(x):\n",
    "    return x==2 or x == '2'"
   ]
  },
  {
   "cell_type": "code",
   "execution_count": 2,
   "id": "4beb9817",
   "metadata": {},
   "outputs": [],
   "source": [
    "#1\n",
    "\n",
    "def is_two(x):\n",
    "    if ((x== 2) or (x == '2')):\n",
    "        print(True)\n",
    "    else:\n",
    "        print(False)"
   ]
  },
  {
   "cell_type": "code",
   "execution_count": 249,
   "id": "dd8485db",
   "metadata": {},
   "outputs": [
    {
     "name": "stdout",
     "output_type": "stream",
     "text": [
      "True\n"
     ]
    }
   ],
   "source": [
    "is_two(2.0)"
   ]
  },
  {
   "cell_type": "code",
   "execution_count": 284,
   "id": "d9e5dd72",
   "metadata": {},
   "outputs": [],
   "source": [
    "def is_vowel(x):\n",
    "    if x.lower() in ['a' or 'e' or 'i' or 'o' or 'u']:\n",
    "        return True\n",
    "    else:\n",
    "        return False"
   ]
  },
  {
   "cell_type": "code",
   "execution_count": 291,
   "id": "fb8ae0b6",
   "metadata": {},
   "outputs": [
    {
     "data": {
      "text/plain": [
       "False"
      ]
     },
     "execution_count": 291,
     "metadata": {},
     "output_type": "execute_result"
    }
   ],
   "source": [
    "is_vowel('cat')"
   ]
  },
  {
   "cell_type": "code",
   "execution_count": 287,
   "id": "fab76265",
   "metadata": {},
   "outputs": [],
   "source": [
    "#2\n",
    "def is_consonant(x):\n",
    "    if x.lower() in ['a' or 'e' or 'i' or 'o' or 'u']:\n",
    "        print(False)\n",
    "    else:\n",
    "        print(True)"
   ]
  },
  {
   "cell_type": "code",
   "execution_count": 296,
   "id": "1b865235",
   "metadata": {},
   "outputs": [],
   "source": [
    "#teacher solution 2\n",
    "def is_consonant(x):\n",
    "    if type(x) == str:\n",
    "        only_letters = x.isalpha()\n",
    "        return only_letters and not is_vowel(x)\n",
    "    return False"
   ]
  },
  {
   "cell_type": "code",
   "execution_count": 302,
   "id": "660e3b6f",
   "metadata": {},
   "outputs": [
    {
     "data": {
      "text/plain": [
       "True"
      ]
     },
     "execution_count": 302,
     "metadata": {},
     "output_type": "execute_result"
    }
   ],
   "source": [
    "is_consonant('cat')"
   ]
  },
  {
   "cell_type": "code",
   "execution_count": 312,
   "id": "df7933aa",
   "metadata": {},
   "outputs": [],
   "source": [
    "#Define a function that accepts a string that is a word. \n",
    "#The function should capitalize the first letter of the word if the word starts with a consonant.\n",
    "\n",
    "def captitalize_consonant(x):\n",
    "    if type(x) != str:\n",
    "        return False\n",
    "    if x[0].lower() not in 'aeiou':\n",
    "        return(x.capitalize())\n",
    "\n"
   ]
  },
  {
   "cell_type": "code",
   "execution_count": 317,
   "id": "71563312",
   "metadata": {},
   "outputs": [
    {
     "data": {
      "text/plain": [
       "'Cats are fast'"
      ]
     },
     "execution_count": 317,
     "metadata": {},
     "output_type": "execute_result"
    }
   ],
   "source": [
    "captitalize_consonant('cats are fast')"
   ]
  },
  {
   "cell_type": "code",
   "execution_count": null,
   "id": "983f45ca",
   "metadata": {},
   "outputs": [],
   "source": [
    "#5\n",
    "#Define a function named calculate_tip. \n",
    "#It should accept a tip percentage (a number between 0 and 1) and the bill total, and return the amount to tip.\n",
    "\n",
    "def calculate_tip():\n",
    "    bill= input('How much was the bill? ')\n",
    "    x = float(bill)\n",
    "    tip =input('What percentage would you like to tip? ')     \n",
    "    y = (float(tip)/100)* x \n",
    "    print('Your total is $', x + y) \n"
   ]
  },
  {
   "cell_type": "code",
   "execution_count": 320,
   "id": "48d06b44",
   "metadata": {},
   "outputs": [
    {
     "name": "stdout",
     "output_type": "stream",
     "text": [
      "How much was the bill?10\n",
      "What percentage would you like to tip? 200\n",
      "Your total is $ 30.0\n"
     ]
    }
   ],
   "source": [
    "calculate_tip()"
   ]
  },
  {
   "cell_type": "code",
   "execution_count": 322,
   "id": "01d98ecf",
   "metadata": {},
   "outputs": [],
   "source": [
    "#6\n",
    "#Define a function named apply_discount. \n",
    "#It should accept a original price, and a discount percentage, and return the price after the discount is applied.\n",
    "\n",
    "def apply_discount():\n",
    "    total= input('What was the total? ')\n",
    "    x= float(total)\n",
    "    discount= input('Discount percentage to be applied ')\n",
    "    y = (float(discount)/100)* x \n",
    "    print('Your final total is $', x-y)"
   ]
  },
  {
   "cell_type": "code",
   "execution_count": 323,
   "id": "208c3e58",
   "metadata": {},
   "outputs": [
    {
     "name": "stdout",
     "output_type": "stream",
     "text": [
      "What was the total? 10\n",
      "Discount percentage to be applied 11\n",
      "Your final total is $ 8.9\n"
     ]
    }
   ],
   "source": [
    "apply_discount()"
   ]
  },
  {
   "cell_type": "code",
   "execution_count": 324,
   "id": "a746860b",
   "metadata": {},
   "outputs": [],
   "source": [
    "#7\n",
    "#Define a function named handle_commas. \n",
    "#It should accept a string that is a number that contains commas in it as input, and return a number as output.\n",
    "\n",
    "def handle_commas(num):\n",
    "    num= num.replace(\",\",\"\")\n",
    "    return int(num)\n",
    "    "
   ]
  },
  {
   "cell_type": "code",
   "execution_count": 325,
   "id": "873f47a6",
   "metadata": {},
   "outputs": [
    {
     "data": {
      "text/plain": [
       "10000000"
      ]
     },
     "execution_count": 325,
     "metadata": {},
     "output_type": "execute_result"
    }
   ],
   "source": [
    "handle_commas('10,000,000')"
   ]
  },
  {
   "cell_type": "code",
   "execution_count": 3,
   "id": "91bc096f",
   "metadata": {},
   "outputs": [],
   "source": [
    "#8\n",
    "#Define a function named get_letter_grade. \n",
    "#It should accept a number and return the letter grade associated with that number (A-F).\n",
    "def get_letter_grade():\n",
    "    grade = int(input('What was your grade from 0-100? '))\n",
    "    if grade >= 90 and grade <= 100:\n",
    "        print( \"A:\", grade)\n",
    "        \n",
    "    elif grade >= 80 and grade <=89:\n",
    "        print (\"B:\", grade)\n",
    "        \n",
    "    elif grade >= 70 and grade <=79:\n",
    "        print (\"C:\", grade)\n",
    "       \n",
    "    elif grade >= 60 and grade <=69:\n",
    "        print (\"D:\", grade)\n",
    "        \n",
    "    elif grade < 60:\n",
    "        print (\"F:\", grade)"
   ]
  },
  {
   "cell_type": "code",
   "execution_count": 4,
   "id": "bfcc9a4a",
   "metadata": {},
   "outputs": [
    {
     "name": "stdout",
     "output_type": "stream",
     "text": [
      "What was your grade from 0-100? 12\n",
      "F: 12\n"
     ]
    }
   ],
   "source": [
    "get_letter_grade()"
   ]
  },
  {
   "cell_type": "code",
   "execution_count": 328,
   "id": "c70dec30",
   "metadata": {},
   "outputs": [],
   "source": [
    "#9 \n",
    "#Define a function named remove_vowels that accepts a string and returns a string with all the vowels removed.\n",
    "\n",
    "def no_vowels(word):\n",
    "    vowels = ('a', 'e', 'i', 'o', 'u')\n",
    "    for x in word:\n",
    "        if x.lower() in vowels:\n",
    "            word = word.replace (x,\"\")\n",
    "    return(word)"
   ]
  },
  {
   "cell_type": "code",
   "execution_count": 329,
   "id": "09c9ebfb",
   "metadata": {},
   "outputs": [
    {
     "data": {
      "text/plain": [
       "'brcdbr'"
      ]
     },
     "execution_count": 329,
     "metadata": {},
     "output_type": "execute_result"
    }
   ],
   "source": [
    "no_vowels('abracadabra')"
   ]
  },
  {
   "cell_type": "code",
   "execution_count": 23,
   "id": "8ab41d17",
   "metadata": {},
   "outputs": [],
   "source": [
    "#10\n",
    "#Define a function named normalize_name. \n",
    "#It should accept a string and return a valid python identifier, that is:\n",
    "#anything that is not a valid python identifier should be removed\n",
    "#leading and trailing whitespace should be removed\n",
    "#everything should be lowercase\n",
    "#spaces should be replaced with underscores\n",
    "#for example:\n",
    "#Name will become name\n",
    "#First Name will become first_name\n",
    "#% Completed will become completed\n",
    "\n",
    "def normalize_name(string):\n",
    "    output = ''\n",
    "    for x in string:\n",
    "         if x.isidentifier() or x == ' ':\n",
    "            output += x\n",
    "    output = output.lower()\n",
    "    output = output.strip()   \n",
    "    output = output.replace(\" \", \"_\")\n",
    "    return(output)\n",
    "\n",
    "    "
   ]
  },
  {
   "cell_type": "code",
   "execution_count": 31,
   "id": "6727773d",
   "metadata": {},
   "outputs": [],
   "source": [
    "#11"
   ]
  },
  {
   "cell_type": "code",
   "execution_count": null,
   "id": "d7eb51b6",
   "metadata": {},
   "outputs": [],
   "source": []
  }
 ],
 "metadata": {
  "kernelspec": {
   "display_name": "Python 3 (ipykernel)",
   "language": "python",
   "name": "python3"
  },
  "language_info": {
   "codemirror_mode": {
    "name": "ipython",
    "version": 3
   },
   "file_extension": ".py",
   "mimetype": "text/x-python",
   "name": "python",
   "nbconvert_exporter": "python",
   "pygments_lexer": "ipython3",
   "version": "3.9.7"
  }
 },
 "nbformat": 4,
 "nbformat_minor": 5
}
