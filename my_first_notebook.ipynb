{
 "cells": [
  {
   "cell_type": "code",
   "execution_count": 1,
   "id": "4d3d6da6",
   "metadata": {},
   "outputs": [],
   "source": [
    "name = \"BOB\""
   ]
  },
  {
   "cell_type": "code",
   "execution_count": 2,
   "id": "ce607c50",
   "metadata": {},
   "outputs": [
    {
     "data": {
      "text/plain": [
       "'BOB'"
      ]
     },
     "execution_count": 2,
     "metadata": {},
     "output_type": "execute_result"
    }
   ],
   "source": [
    "name"
   ]
  },
  {
   "cell_type": "code",
   "execution_count": 3,
   "id": "f4681a49",
   "metadata": {},
   "outputs": [
    {
     "ename": "SyntaxError",
     "evalue": "cannot assign to operator (4015984205.py, line 1)",
     "output_type": "error",
     "traceback": [
      "\u001b[0;36m  File \u001b[0;32m\"/var/folders/n9/2cn6jhrn6y18fntry1wgdn5m0000gp/T/ipykernel_34946/4015984205.py\"\u001b[0;36m, line \u001b[0;32m1\u001b[0m\n\u001b[0;31m    2 + 203923=\u001b[0m\n\u001b[0m    ^\u001b[0m\n\u001b[0;31mSyntaxError\u001b[0m\u001b[0;31m:\u001b[0m cannot assign to operator\n"
     ]
    }
   ],
   "source": [
    "2 + 203923="
   ]
  },
  {
   "cell_type": "code",
   "execution_count": 4,
   "id": "2579c5b3",
   "metadata": {},
   "outputs": [
    {
     "data": {
      "text/plain": [
       "2399394"
      ]
     },
     "execution_count": 4,
     "metadata": {},
     "output_type": "execute_result"
    }
   ],
   "source": [
    "2 + 2399392"
   ]
  },
  {
   "cell_type": "code",
   "execution_count": 6,
   "id": "40e9ac67",
   "metadata": {},
   "outputs": [
    {
     "ename": "SyntaxError",
     "evalue": "cannot assign to literal (1812419865.py, line 2)",
     "output_type": "error",
     "traceback": [
      "\u001b[0;36m  File \u001b[0;32m\"/var/folders/n9/2cn6jhrn6y18fntry1wgdn5m0000gp/T/ipykernel_34946/1812419865.py\"\u001b[0;36m, line \u001b[0;32m2\u001b[0m\n\u001b[0;31m    'iced tea' = 1.99\u001b[0m\n\u001b[0m    ^\u001b[0m\n\u001b[0;31mSyntaxError\u001b[0m\u001b[0;31m:\u001b[0m cannot assign to literal\n"
     ]
    }
   ],
   "source": [
    "total = 0\n",
    "'iced tea' = 1.99\n",
    "total = total + 'iced tea'"
   ]
  },
  {
   "cell_type": "code",
   "execution_count": 7,
   "id": "412f13fe",
   "metadata": {},
   "outputs": [
    {
     "ename": "SyntaxError",
     "evalue": "cannot assign to literal (1812419865.py, line 2)",
     "output_type": "error",
     "traceback": [
      "\u001b[0;36m  File \u001b[0;32m\"/var/folders/n9/2cn6jhrn6y18fntry1wgdn5m0000gp/T/ipykernel_34946/1812419865.py\"\u001b[0;36m, line \u001b[0;32m2\u001b[0m\n\u001b[0;31m    'iced tea' = 1.99\u001b[0m\n\u001b[0m    ^\u001b[0m\n\u001b[0;31mSyntaxError\u001b[0m\u001b[0;31m:\u001b[0m cannot assign to literal\n"
     ]
    }
   ],
   "source": [
    "total = 0\n",
    "'iced tea' = 1.99\n",
    "total = total + 'iced tea'"
   ]
  },
  {
   "cell_type": "code",
   "execution_count": 8,
   "id": "055efe57",
   "metadata": {},
   "outputs": [
    {
     "ename": "SyntaxError",
     "evalue": "cannot assign to literal (818734511.py, line 2)",
     "output_type": "error",
     "traceback": [
      "\u001b[0;36m  File \u001b[0;32m\"/var/folders/n9/2cn6jhrn6y18fntry1wgdn5m0000gp/T/ipykernel_34946/818734511.py\"\u001b[0;36m, line \u001b[0;32m2\u001b[0m\n\u001b[0;31m    \"iced tea\" = 1.99\u001b[0m\n\u001b[0m    ^\u001b[0m\n\u001b[0;31mSyntaxError\u001b[0m\u001b[0;31m:\u001b[0m cannot assign to literal\n"
     ]
    }
   ],
   "source": [
    "total = 0\n",
    "\"iced tea\" = 1.99\n",
    "total = total + \"iced tea\""
   ]
  },
  {
   "cell_type": "code",
   "execution_count": 9,
   "id": "8039f343",
   "metadata": {},
   "outputs": [
    {
     "ename": "NameError",
     "evalue": "name 'total' is not defined",
     "output_type": "error",
     "traceback": [
      "\u001b[0;31m---------------------------------------------------------------------------\u001b[0m",
      "\u001b[0;31mNameError\u001b[0m                                 Traceback (most recent call last)",
      "\u001b[0;32m/var/folders/n9/2cn6jhrn6y18fntry1wgdn5m0000gp/T/ipykernel_34946/3978681865.py\u001b[0m in \u001b[0;36m<module>\u001b[0;34m\u001b[0m\n\u001b[0;32m----> 1\u001b[0;31m \u001b[0mtotal\u001b[0m\u001b[0;34m\u001b[0m\u001b[0;34m\u001b[0m\u001b[0m\n\u001b[0m",
      "\u001b[0;31mNameError\u001b[0m: name 'total' is not defined"
     ]
    }
   ],
   "source": [
    "total "
   ]
  },
  {
   "cell_type": "code",
   "execution_count": 10,
   "id": "c836bb65",
   "metadata": {},
   "outputs": [
    {
     "ename": "NameError",
     "evalue": "name 'total' is not defined",
     "output_type": "error",
     "traceback": [
      "\u001b[0;31m---------------------------------------------------------------------------\u001b[0m",
      "\u001b[0;31mNameError\u001b[0m                                 Traceback (most recent call last)",
      "\u001b[0;32m/var/folders/n9/2cn6jhrn6y18fntry1wgdn5m0000gp/T/ipykernel_34946/4242250212.py\u001b[0m in \u001b[0;36m<module>\u001b[0;34m\u001b[0m\n\u001b[0;32m----> 1\u001b[0;31m \u001b[0mtotal\u001b[0m \u001b[0;34m+=\u001b[0m \u001b[0;36m1.99\u001b[0m\u001b[0;34m\u001b[0m\u001b[0;34m\u001b[0m\u001b[0m\n\u001b[0m",
      "\u001b[0;31mNameError\u001b[0m: name 'total' is not defined"
     ]
    }
   ],
   "source": [
    "total += 1.99"
   ]
  },
  {
   "cell_type": "code",
   "execution_count": 12,
   "id": "a238766f",
   "metadata": {},
   "outputs": [],
   "source": [
    "total = 0 \n",
    "total += 1.99"
   ]
  },
  {
   "cell_type": "code",
   "execution_count": 13,
   "id": "58a9b0e7",
   "metadata": {},
   "outputs": [
    {
     "data": {
      "text/plain": [
       "1.99"
      ]
     },
     "execution_count": 13,
     "metadata": {},
     "output_type": "execute_result"
    }
   ],
   "source": [
    "total "
   ]
  },
  {
   "cell_type": "code",
   "execution_count": 14,
   "id": "f91707ba",
   "metadata": {},
   "outputs": [
    {
     "data": {
      "text/plain": [
       "1.99"
      ]
     },
     "execution_count": 14,
     "metadata": {},
     "output_type": "execute_result"
    }
   ],
   "source": [
    "total "
   ]
  },
  {
   "cell_type": "code",
   "execution_count": 15,
   "id": "28bb48f2",
   "metadata": {},
   "outputs": [
    {
     "data": {
      "text/plain": [
       "False"
      ]
     },
     "execution_count": 15,
     "metadata": {},
     "output_type": "execute_result"
    }
   ],
   "source": [
    "total == 2"
   ]
  },
  {
   "cell_type": "code",
   "execution_count": 16,
   "id": "11551ef3",
   "metadata": {},
   "outputs": [],
   "source": [
    "favorite_number = 13"
   ]
  },
  {
   "cell_type": "code",
   "execution_count": 17,
   "id": "6bbaf4cf",
   "metadata": {},
   "outputs": [
    {
     "ename": "SyntaxError",
     "evalue": "invalid syntax (2358654277.py, line 1)",
     "output_type": "error",
     "traceback": [
      "\u001b[0;36m  File \u001b[0;32m\"/var/folders/n9/2cn6jhrn6y18fntry1wgdn5m0000gp/T/ipykernel_34946/2358654277.py\"\u001b[0;36m, line \u001b[0;32m1\u001b[0m\n\u001b[0;31m    total == 2 OR total <= favorite_number\u001b[0m\n\u001b[0m               ^\u001b[0m\n\u001b[0;31mSyntaxError\u001b[0m\u001b[0;31m:\u001b[0m invalid syntax\n"
     ]
    }
   ],
   "source": [
    "total == 2 OR total <= favorite_number"
   ]
  },
  {
   "cell_type": "code",
   "execution_count": 18,
   "id": "f8b8e5eb",
   "metadata": {},
   "outputs": [
    {
     "ename": "SyntaxError",
     "evalue": "invalid syntax (136314263.py, line 1)",
     "output_type": "error",
     "traceback": [
      "\u001b[0;36m  File \u001b[0;32m\"/var/folders/n9/2cn6jhrn6y18fntry1wgdn5m0000gp/T/ipykernel_34946/136314263.py\"\u001b[0;36m, line \u001b[0;32m1\u001b[0m\n\u001b[0;31m    total == 2 OR <= favorite_number\u001b[0m\n\u001b[0m               ^\u001b[0m\n\u001b[0;31mSyntaxError\u001b[0m\u001b[0;31m:\u001b[0m invalid syntax\n"
     ]
    }
   ],
   "source": [
    "total == 2 OR <= favorite_number"
   ]
  },
  {
   "cell_type": "code",
   "execution_count": null,
   "id": "6e83caef",
   "metadata": {},
   "outputs": [],
   "source": []
  },
  {
   "cell_type": "code",
   "execution_count": 20,
   "id": "2564d1de",
   "metadata": {
    "scrolled": true
   },
   "outputs": [
    {
     "ename": "SyntaxError",
     "evalue": "invalid syntax (144151904.py, line 1)",
     "output_type": "error",
     "traceback": [
      "\u001b[0;36m  File \u001b[0;32m\"/var/folders/n9/2cn6jhrn6y18fntry1wgdn5m0000gp/T/ipykernel_34946/144151904.py\"\u001b[0;36m, line \u001b[0;32m1\u001b[0m\n\u001b[0;31m    total == 2 or <= favorite_number\u001b[0m\n\u001b[0m                  ^\u001b[0m\n\u001b[0;31mSyntaxError\u001b[0m\u001b[0;31m:\u001b[0m invalid syntax\n"
     ]
    }
   ],
   "source": [
    "total == 2 or <= favorite_number"
   ]
  },
  {
   "cell_type": "code",
   "execution_count": 7,
   "id": "2f40d2b5",
   "metadata": {
    "scrolled": true
   },
   "outputs": [
    {
     "ename": "SyntaxError",
     "evalue": "invalid syntax (2593383944.py, line 1)",
     "output_type": "error",
     "traceback": [
      "\u001b[0;36m  File \u001b[0;32m\"/var/folders/n9/2cn6jhrn6y18fntry1wgdn5m0000gp/T/ipykernel_37264/2593383944.py\"\u001b[0;36m, line \u001b[0;32m1\u001b[0m\n\u001b[0;31m    total == 2 or is <= favorite_number\u001b[0m\n\u001b[0m                  ^\u001b[0m\n\u001b[0;31mSyntaxError\u001b[0m\u001b[0;31m:\u001b[0m invalid syntax\n"
     ]
    }
   ],
   "source": [
    "total == 2 or is <= favorite_number"
   ]
  },
  {
   "cell_type": "code",
   "execution_count": null,
   "id": "44cbce67",
   "metadata": {},
   "outputs": [],
   "source": []
  },
  {
   "cell_type": "markdown",
   "id": "1172cda7",
   "metadata": {},
   "source": [
    "## logical operators\n",
    "# not \n",
    "# and \n",
    "# or \n",
    "\n"
   ]
  },
  {
   "cell_type": "markdown",
   "id": "212a90d2",
   "metadata": {},
   "source": [
    "## strings"
   ]
  },
  {
   "cell_type": "code",
   "execution_count": null,
   "id": "603b633f",
   "metadata": {},
   "outputs": [],
   "source": []
  },
  {
   "cell_type": "code",
   "execution_count": 1,
   "id": "5bd2c337",
   "metadata": {},
   "outputs": [
    {
     "data": {
      "text/plain": [
       "6"
      ]
     },
     "execution_count": 1,
     "metadata": {},
     "output_type": "execute_result"
    }
   ],
   "source": [
    "3+3"
   ]
  },
  {
   "cell_type": "code",
   "execution_count": 3,
   "id": "0cb69eee",
   "metadata": {},
   "outputs": [],
   "source": [
    "#header "
   ]
  },
  {
   "cell_type": "code",
   "execution_count": null,
   "id": "06e03fe0",
   "metadata": {},
   "outputs": [],
   "source": []
  }
 ],
 "metadata": {
  "kernelspec": {
   "display_name": "Python 3 (ipykernel)",
   "language": "python",
   "name": "python3"
  },
  "language_info": {
   "codemirror_mode": {
    "name": "ipython",
    "version": 3
   },
   "file_extension": ".py",
   "mimetype": "text/x-python",
   "name": "python",
   "nbconvert_exporter": "python",
   "pygments_lexer": "ipython3",
   "version": "3.9.7"
  }
 },
 "nbformat": 4,
 "nbformat_minor": 5
}
