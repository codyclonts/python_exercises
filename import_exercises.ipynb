{
 "cells": [
  {
   "cell_type": "code",
   "execution_count": null,
   "id": "f73b6fcc",
   "metadata": {},
   "outputs": [],
   "source": [
    "#import functions_exercises as funct"
   ]
  },
  {
   "cell_type": "code",
   "execution_count": null,
   "id": "86d3ac4c",
   "metadata": {},
   "outputs": [],
   "source": [
    "#funct.is_two(3)"
   ]
  },
  {
   "cell_type": "code",
   "execution_count": null,
   "id": "9b3c4e5d",
   "metadata": {},
   "outputs": [],
   "source": [
    "#funct.is_vowel('x')"
   ]
  },
  {
   "cell_type": "code",
   "execution_count": null,
   "id": "593ca639",
   "metadata": {},
   "outputs": [],
   "source": [
    "#funct.captitalize_consonant('cats are fast')"
   ]
  },
  {
   "cell_type": "code",
   "execution_count": 1,
   "id": "3167e44e",
   "metadata": {},
   "outputs": [],
   "source": [
    "from functions_exercises import calculate_tip"
   ]
  },
  {
   "cell_type": "code",
   "execution_count": 2,
   "id": "416cb54e",
   "metadata": {},
   "outputs": [
    {
     "name": "stdout",
     "output_type": "stream",
     "text": [
      "How much was the bill? 20 \n",
      "What percentage would you like to tip? 15\n",
      "Your total is $ 23.0\n"
     ]
    }
   ],
   "source": [
    "calculate_tip()"
   ]
  },
  {
   "cell_type": "code",
   "execution_count": 3,
   "id": "46217fda",
   "metadata": {},
   "outputs": [],
   "source": [
    "from functions_exercises import get_letter_grade"
   ]
  },
  {
   "cell_type": "code",
   "execution_count": 4,
   "id": "17b04724",
   "metadata": {},
   "outputs": [
    {
     "name": "stdout",
     "output_type": "stream",
     "text": [
      "What was your grade from 0-100? 76\n",
      "C: 76\n"
     ]
    }
   ],
   "source": [
    "get_letter_grade()"
   ]
  },
  {
   "cell_type": "code",
   "execution_count": 15,
   "id": "c9614719",
   "metadata": {},
   "outputs": [],
   "source": [
    "import itertools"
   ]
  },
  {
   "cell_type": "code",
   "execution_count": 25,
   "id": "ee1f683b",
   "metadata": {},
   "outputs": [],
   "source": [
    "letter = ['A','B','C']\n",
    "number = [1,2,3]"
   ]
  },
  {
   "cell_type": "code",
   "execution_count": 27,
   "id": "a733a2e9",
   "metadata": {},
   "outputs": [
    {
     "data": {
      "text/plain": [
       "9"
      ]
     },
     "execution_count": 27,
     "metadata": {},
     "output_type": "execute_result"
    }
   ],
   "source": [
    "len(list(itertools.product(letter, number)))"
   ]
  },
  {
   "cell_type": "code",
   "execution_count": 17,
   "id": "9bd35ef9",
   "metadata": {},
   "outputs": [],
   "source": [
    "letters = ['A', 'B', 'C' ,'D']"
   ]
  },
  {
   "cell_type": "code",
   "execution_count": 18,
   "id": "398750bd",
   "metadata": {},
   "outputs": [
    {
     "data": {
      "text/plain": [
       "6"
      ]
     },
     "execution_count": 18,
     "metadata": {},
     "output_type": "execute_result"
    }
   ],
   "source": [
    "#How many different combinations are there of 2 letters from \"abcd\"?\n",
    "len(list(itertools.combinations(letters,2)))"
   ]
  },
  {
   "cell_type": "code",
   "execution_count": 19,
   "id": "3d65b189",
   "metadata": {},
   "outputs": [
    {
     "data": {
      "text/plain": [
       "12"
      ]
     },
     "execution_count": 19,
     "metadata": {},
     "output_type": "execute_result"
    }
   ],
   "source": [
    "len(list(itertools.permutations(letters,2)))"
   ]
  },
  {
   "cell_type": "code",
   "execution_count": null,
   "id": "d78eab4c",
   "metadata": {},
   "outputs": [],
   "source": []
  }
 ],
 "metadata": {
  "kernelspec": {
   "display_name": "Python 3 (ipykernel)",
   "language": "python",
   "name": "python3"
  },
  "language_info": {
   "codemirror_mode": {
    "name": "ipython",
    "version": 3
   },
   "file_extension": ".py",
   "mimetype": "text/x-python",
   "name": "python",
   "nbconvert_exporter": "python",
   "pygments_lexer": "ipython3",
   "version": "3.9.7"
  }
 },
 "nbformat": 4,
 "nbformat_minor": 5
}
