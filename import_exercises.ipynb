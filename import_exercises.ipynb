{
 "cells": [
  {
   "cell_type": "code",
   "execution_count": null,
   "id": "7d6833eb",
   "metadata": {},
   "outputs": [],
   "source": [
    "#import functions_exercises as funct"
   ]
  },
  {
   "cell_type": "code",
   "execution_count": null,
   "id": "a8f87dff",
   "metadata": {},
   "outputs": [],
   "source": [
    "#funct.is_two(3)"
   ]
  },
  {
   "cell_type": "code",
   "execution_count": null,
   "id": "4345251b",
   "metadata": {},
   "outputs": [],
   "source": [
    "#funct.is_vowel('x')"
   ]
  },
  {
   "cell_type": "code",
   "execution_count": null,
   "id": "b9959a09",
   "metadata": {},
   "outputs": [],
   "source": [
    "#funct.captitalize_consonant('cats are fast')"
   ]
  },
  {
   "cell_type": "code",
   "execution_count": null,
   "id": "48ebff23",
   "metadata": {},
   "outputs": [],
   "source": [
    "from functions_exercises import calculate_tip"
   ]
  },
  {
   "cell_type": "code",
   "execution_count": null,
   "id": "5b95e57d",
   "metadata": {},
   "outputs": [],
   "source": [
    "calculate_tip()"
   ]
  },
  {
   "cell_type": "code",
   "execution_count": 1,
   "id": "b3a01e74",
   "metadata": {},
   "outputs": [],
   "source": [
    "from functions_exercises import get_letter_grade"
   ]
  },
  {
   "cell_type": "code",
   "execution_count": 2,
   "id": "60948f62",
   "metadata": {},
   "outputs": [
    {
     "name": "stdout",
     "output_type": "stream",
     "text": [
      "What was your grade from 0-100? 12\n",
      "F: 12\n"
     ]
    }
   ],
   "source": [
    "get_letter_grade()"
   ]
  },
  {
   "cell_type": "code",
   "execution_count": 3,
   "id": "52f1aa82",
   "metadata": {},
   "outputs": [],
   "source": [
    "import itertools"
   ]
  },
  {
   "cell_type": "code",
   "execution_count": 4,
   "id": "21cd7d61",
   "metadata": {},
   "outputs": [],
   "source": [
    "letter = ['A','B','C']\n",
    "number = [1,2,3]\n",
    "letnum = ['A','B','C',1,2,3]"
   ]
  },
  {
   "cell_type": "code",
   "execution_count": 5,
   "id": "3eaae628",
   "metadata": {},
   "outputs": [
    {
     "data": {
      "text/plain": [
       "9"
      ]
     },
     "execution_count": 5,
     "metadata": {},
     "output_type": "execute_result"
    }
   ],
   "source": [
    "len(list(itertools.product(letter, number)))"
   ]
  },
  {
   "cell_type": "code",
   "execution_count": 9,
   "id": "ff76c277",
   "metadata": {},
   "outputs": [
    {
     "data": {
      "text/plain": [
       "15"
      ]
     },
     "execution_count": 9,
     "metadata": {},
     "output_type": "execute_result"
    }
   ],
   "source": [
    "len(list(itertools.combinations(letnum, 2)))"
   ]
  },
  {
   "cell_type": "code",
   "execution_count": 6,
   "id": "1d5f7abc",
   "metadata": {},
   "outputs": [],
   "source": [
    "letters = ['A', 'B', 'C' ,'D']"
   ]
  },
  {
   "cell_type": "code",
   "execution_count": 7,
   "id": "02e8391b",
   "metadata": {},
   "outputs": [
    {
     "data": {
      "text/plain": [
       "6"
      ]
     },
     "execution_count": 7,
     "metadata": {},
     "output_type": "execute_result"
    }
   ],
   "source": [
    "#How many different combinations are there of 2 letters from \"abcd\"?\n",
    "len(list(itertools.combinations(letters,2)))"
   ]
  },
  {
   "cell_type": "code",
   "execution_count": 8,
   "id": "5cecb259",
   "metadata": {},
   "outputs": [
    {
     "data": {
      "text/plain": [
       "12"
      ]
     },
     "execution_count": 8,
     "metadata": {},
     "output_type": "execute_result"
    }
   ],
   "source": [
    "len(list(itertools.permutations(letters,2)))"
   ]
  },
  {
   "cell_type": "code",
   "execution_count": null,
   "id": "3c08107d",
   "metadata": {},
   "outputs": [],
   "source": []
  }
 ],
 "metadata": {
  "kernelspec": {
   "display_name": "Python 3 (ipykernel)",
   "language": "python",
   "name": "python3"
  },
  "language_info": {
   "codemirror_mode": {
    "name": "ipython",
    "version": 3
   },
   "file_extension": ".py",
   "mimetype": "text/x-python",
   "name": "python",
   "nbconvert_exporter": "python",
   "pygments_lexer": "ipython3",
   "version": "3.9.7"
  }
 },
 "nbformat": 4,
 "nbformat_minor": 5
}
